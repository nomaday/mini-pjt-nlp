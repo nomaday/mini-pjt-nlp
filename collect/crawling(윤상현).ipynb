{
 "cells": [
  {
   "cell_type": "code",
   "execution_count": null,
   "metadata": {},
   "outputs": [],
   "source": [
    "# 라이브러리 import\n",
    "import os\n",
    "import pandas as pd\n",
    "import numpy as np\n",
    "import math \n",
    "\n",
    "# 셀레늄\n",
    "from selenium.webdriver.common.alert import Alert\n",
    "from selenium import webdriver  # 라이브러리(모듈) 가져오라\n",
    "# pip install chromedriver_autoinstaller\n",
    "from selenium.webdriver.common.keys import Keys\n",
    "from selenium.webdriver import ActionChains as AC\n",
    "from selenium.webdriver.common.by import By\n",
    "from selenium.webdriver.chrome.options import Options\n",
    "from selenium.webdriver.support.ui import WebDriverWait\n",
    "from selenium.webdriver.support import expected_conditions as EC\n",
    "from selenium.common.exceptions import TimeoutException\n",
    "\n",
    "# tqdm : for문 진행상황 체크\n",
    "from tqdm import tqdm, tqdm_notebook\n",
    "from tqdm.notebook import tqdm\n",
    "\n",
    "# 정규표현식(regular expression) : 문자(알파벳,한글), 숫자, 특수기호 정제 및 추출\n",
    "import re\n",
    "from time import sleep\n",
    "import time\n",
    "\n",
    "# 워닝 무시\n",
    "import warnings\n",
    "warnings.filterwarnings('ignore')"
   ]
  },
  {
   "cell_type": "code",
   "execution_count": null,
   "metadata": {},
   "outputs": [],
   "source": [
    "# 저장 장소 변경 To do\n",
    "\n",
    "# options = webdriver.ChromeOptions()\n",
    "\n",
    "# options.add_experimental_option(\"prefs\", {\n",
    "#   \"download.default_directory\": r\"/Users/sanghyun/Desktop/Coding/NLP/project/crawling/data\",\n",
    "#   \"download.prompt_for_download\": False,\n",
    "#   \"download.directory_upgrade\": True,\n",
    "#   \"safebrowsing.enabled\": True\n",
    "# })"
   ]
  },
  {
   "cell_type": "code",
   "execution_count": null,
   "metadata": {},
   "outputs": [],
   "source": [
    "# path = \"/Users/sanghyun/miniforge3/envs/nlp/chromedriver\"\n",
    "# driver = webdriver.Chrome(path)\n",
    "# url = 'https://www.melon.com/genre/song_list.htm?gnrCode=GN0100#params%5BgnrCode%5D=GN0100&params%5BdtlGnrCode%5D=&params%5BorderBy%5D=NEW&params%5BsteadyYn%5D=N&po=pageObj&startIndex=1'\n",
    "\n",
    "# driver.get(url)\n",
    "# time.sleep(2)\n",
    "\n",
    "# # 첫 번째 노래 클릭\n",
    "# driver.find_element(\"xpath\",'//*[@id=\"frm\"]/div/table/tbody/tr[1]/td[4]/div/a').click()\n",
    "# time.sleep(2)\n",
    "\n",
    "# # 펼치기 클릭\n",
    "# try:\n",
    "#     driver.find_element(\"xpath\",'//*[@id=\"lyricArea\"]/button/i').click()\n",
    "#     time.sleep(1)\n",
    "# except:\n",
    "#     pass"
   ]
  },
  {
   "cell_type": "code",
   "execution_count": null,
   "metadata": {},
   "outputs": [],
   "source": [
    "# prize_list = []"
   ]
  },
  {
   "cell_type": "code",
   "execution_count": null,
   "metadata": {},
   "outputs": [],
   "source": [
    "# prize = driver.find_element(By.CSS_SELECTOR,\"#d_video_summary\").text\n",
    "# prize"
   ]
  },
  {
   "cell_type": "code",
   "execution_count": null,
   "metadata": {},
   "outputs": [],
   "source": [
    "# with open('너에게 배워.txt','w') as d:\n",
    "#     text = d.write(prize)"
   ]
  },
  {
   "cell_type": "code",
   "execution_count": null,
   "metadata": {},
   "outputs": [],
   "source": [
    "# 구글 드라이브 경로\n",
    "path = \"/Users/sanghyun/miniforge3/envs/nlp/chromedriver\"\n",
    "driver = webdriver.Chrome(path)\n",
    "\n",
    "# target url 추출을 위한 url\n",
    "list_url = 'https://www.melon.com/genre/song_list.htm?gnrCode=GN0100#params%5BgnrCode%5D=GN0100&params%5BdtlGnrCode%5D=&params%5BorderBy%5D=NEW&params%5BsteadyYn%5D=N&po=pageObj&startIndex=1'\n",
    "\n",
    "# 각 노래의 가사를 뽑을 url\n",
    "target_num = []\n",
    "raw_url = 'https://www.melon.com/song/detail.htm?songId='"
   ]
  },
  {
   "cell_type": "code",
   "execution_count": 113,
   "metadata": {},
   "outputs": [
    {
     "name": "stdout",
     "output_type": "stream",
     "text": [
      "['35459132', '35460167', '35460116', '35459770', '35458770', '35458768', '35458566', '35458455', '35458448', '35457256', '35456804', '35456801', '35455006', '35454872', '35456079', '35458490', '35456480', '35456354', '35456567', '35455910', '35457129', '35456786', '35456700', '35456456', '35455947', '35453774', '35452895', '35452493', '35445854', '35456666', '35456077', '35456852', '35456837', '35456407', '35456359', '35456468', '35456369', '35453692', '35445807', '35456367', '35456789', '35452888', '35434090', '35421579', '35453293', '35454263', '35453320', '35453279', '35445795', '35454357', '35459132', '35460167', '35460116', '35459770', '35458770', '35458768', '35458566', '35458455', '35458448', '35457256', '35456804', '35456801', '35455006', '35454872', '35456079', '35458490', '35456480', '35456354', '35456567', '35455910', '35457129', '35456786', '35456700', '35456456', '35455947', '35453774', '35452895', '35452493', '35445854', '35456666', '35456077', '35456852', '35456837', '35456407', '35456359', '35456468', '35456369', '35453692', '35445807', '35456367', '35456789', '35452888', '35434090', '35421579', '35453293', '35454263', '35453320', '35453279', '35445795', '35454357', '35459132', '35460167', '35460116', '35459770', '35458770', '35458768', '35458566', '35458455', '35458448', '35457256', '35456804', '35456801', '35455006', '35454872', '35456079', '35458490', '35456480', '35456354', '35456567', '35455910', '35457129', '35456786', '35456700', '35456456', '35455947', '35453774', '35452895', '35452493', '35445854', '35456666', '35456077', '35456852', '35456837', '35456407', '35456359', '35456468', '35456369', '35453692', '35445807', '35456367', '35456789', '35452888', '35434090', '35421579', '35453293', '35454263', '35453320', '35453279', '35445795', '35454357', '35459132', '35460167', '35460116', '35459770', '35458770', '35458768', '35458566', '35458455', '35458448', '35457256', '35456804', '35456801', '35455006', '35454872', '35456079', '35458490', '35456480', '35456354', '35456567', '35455910', '35457129', '35456786', '35456700', '35456456', '35455947', '35453774', '35452895', '35452493', '35445854', '35456666', '35456077', '35456852', '35456837', '35456407', '35456359', '35456468', '35456369', '35453692', '35445807', '35456367', '35456789', '35452888', '35434090', '35421579', '35453293', '35454263', '35453320', '35453279', '35445795', '35454357', \"javascript:melon.link.goSongDetail('35459132');\", \"javascript:melon.link.goSongDetail('35460167');\", \"javascript:melon.link.goSongDetail('35460116');\", \"javascript:melon.link.goSongDetail('35459770');\", \"javascript:melon.link.goSongDetail('35458770');\", \"javascript:melon.link.goSongDetail('35458768');\", \"javascript:melon.link.goSongDetail('35458566');\", \"javascript:melon.link.goSongDetail('35458455');\", \"javascript:melon.link.goSongDetail('35458448');\", \"javascript:melon.link.goSongDetail('35457256');\", \"javascript:melon.link.goSongDetail('35456804');\", \"javascript:melon.link.goSongDetail('35456801');\", \"javascript:melon.link.goSongDetail('35455006');\", \"javascript:melon.link.goSongDetail('35454872');\", \"javascript:melon.link.goSongDetail('35456079');\", \"javascript:melon.link.goSongDetail('35458490');\", \"javascript:melon.link.goSongDetail('35456480');\", \"javascript:melon.link.goSongDetail('35456354');\", \"javascript:melon.link.goSongDetail('35456567');\", \"javascript:melon.link.goSongDetail('35455910');\", \"javascript:melon.link.goSongDetail('35457129');\", \"javascript:melon.link.goSongDetail('35456786');\", \"javascript:melon.link.goSongDetail('35456700');\", \"javascript:melon.link.goSongDetail('35456456');\", \"javascript:melon.link.goSongDetail('35455947');\", \"javascript:melon.link.goSongDetail('35453774');\", \"javascript:melon.link.goSongDetail('35452895');\", \"javascript:melon.link.goSongDetail('35452493');\", \"javascript:melon.link.goSongDetail('35445854');\", \"javascript:melon.link.goSongDetail('35456666');\", \"javascript:melon.link.goSongDetail('35456077');\", \"javascript:melon.link.goSongDetail('35456852');\", \"javascript:melon.link.goSongDetail('35456837');\", \"javascript:melon.link.goSongDetail('35456407');\", \"javascript:melon.link.goSongDetail('35456359');\", \"javascript:melon.link.goSongDetail('35456468');\", \"javascript:melon.link.goSongDetail('35456369');\", \"javascript:melon.link.goSongDetail('35453692');\", \"javascript:melon.link.goSongDetail('35445807');\", \"javascript:melon.link.goSongDetail('35456367');\", \"javascript:melon.link.goSongDetail('35456789');\", \"javascript:melon.link.goSongDetail('35452888');\", \"javascript:melon.link.goSongDetail('35434090');\", \"javascript:melon.link.goSongDetail('35421579');\", \"javascript:melon.link.goSongDetail('35453293');\", \"javascript:melon.link.goSongDetail('35454263');\", \"javascript:melon.link.goSongDetail('35453320');\", \"javascript:melon.link.goSongDetail('35453279');\", \"javascript:melon.link.goSongDetail('35445795');\", \"javascript:melon.link.goSongDetail('35454357');\"]\n"
     ]
    }
   ],
   "source": [
    "## target_num 추출\n",
    "\n",
    "# list url 접속\n",
    "driver.get(list_url)\n",
    "time.sleep(2)\n",
    "\n",
    "# list url에서 target num 추출\n",
    "elements = driver.find_elements(By.CSS_SELECTOR, \"a.btn.button_icons.type03.song_info\")\n",
    "\n",
    "for ele in elements:\n",
    "    raw = ele.get_attribute('href')\n",
    "    result = re.sub(r'[^0-9]', '', raw)\n",
    "    target_num.append(raw)\n",
    "\n",
    "print(target_num)"
   ]
  },
  {
   "cell_type": "code",
   "execution_count": 114,
   "metadata": {},
   "outputs": [
    {
     "name": "stdout",
     "output_type": "stream",
     "text": [
      "300\n"
     ]
    },
    {
     "ename": "StaleElementReferenceException",
     "evalue": "Message: stale element reference: element is not attached to the page document\n  (Session info: chrome=103.0.5060.134)\nStacktrace:\n0   chromedriver                        0x0000000103967ef9 chromedriver + 4480761\n1   chromedriver                        0x00000001038f35d3 chromedriver + 4003283\n2   chromedriver                        0x0000000103586338 chromedriver + 410424\n3   chromedriver                        0x00000001035891e7 chromedriver + 422375\n4   chromedriver                        0x0000000103589086 chromedriver + 422022\n5   chromedriver                        0x0000000103589c4d chromedriver + 425037\n6   chromedriver                        0x00000001035ed113 chromedriver + 831763\n7   chromedriver                        0x00000001035d9a62 chromedriver + 752226\n8   chromedriver                        0x00000001035ec4f1 chromedriver + 828657\n9   chromedriver                        0x00000001035d9953 chromedriver + 751955\n10  chromedriver                        0x00000001035afcd5 chromedriver + 580821\n11  chromedriver                        0x00000001035b0d25 chromedriver + 584997\n12  chromedriver                        0x000000010393902d chromedriver + 4288557\n13  chromedriver                        0x000000010393e1b3 chromedriver + 4309427\n14  chromedriver                        0x000000010394323f chromedriver + 4330047\n15  chromedriver                        0x000000010393edfa chromedriver + 4312570\n16  chromedriver                        0x0000000103917fef chromedriver + 4153327\n17  chromedriver                        0x0000000103958d78 chromedriver + 4418936\n18  chromedriver                        0x0000000103958eff chromedriver + 4419327\n19  chromedriver                        0x000000010396fab5 chromedriver + 4512437\n20  libsystem_pthread.dylib             0x00007ff81f0a44e1 _pthread_start + 125\n21  libsystem_pthread.dylib             0x00007ff81f09ff6b thread_start + 15\n",
     "output_type": "error",
     "traceback": [
      "\u001b[0;31m---------------------------------------------------------------------------\u001b[0m",
      "\u001b[0;31mStaleElementReferenceException\u001b[0m            Traceback (most recent call last)",
      "\u001b[1;32m/Users/sanghyun/Desktop/Coding/NLP/project/crawling.ipynb 셀 9\u001b[0m in \u001b[0;36m<cell line: 12>\u001b[0;34m()\u001b[0m\n\u001b[1;32m     <a href='vscode-notebook-cell:/Users/sanghyun/Desktop/Coding/NLP/project/crawling.ipynb#ch0000021?line=13'>14</a>\u001b[0m driver\u001b[39m.\u001b[39mexecute_script(\u001b[39m\"\u001b[39m\u001b[39mwindow.scrollTo(0,document.body.scrollHeight)\u001b[39m\u001b[39m\"\u001b[39m)\n\u001b[1;32m     <a href='vscode-notebook-cell:/Users/sanghyun/Desktop/Coding/NLP/project/crawling.ipynb#ch0000021?line=15'>16</a>\u001b[0m \u001b[39mfor\u001b[39;00m ele \u001b[39min\u001b[39;00m elements:\n\u001b[0;32m---> <a href='vscode-notebook-cell:/Users/sanghyun/Desktop/Coding/NLP/project/crawling.ipynb#ch0000021?line=16'>17</a>\u001b[0m     raw \u001b[39m=\u001b[39m ele\u001b[39m.\u001b[39;49mget_attribute(\u001b[39m'\u001b[39;49m\u001b[39mhref\u001b[39;49m\u001b[39m'\u001b[39;49m)\n\u001b[1;32m     <a href='vscode-notebook-cell:/Users/sanghyun/Desktop/Coding/NLP/project/crawling.ipynb#ch0000021?line=17'>18</a>\u001b[0m     result \u001b[39m=\u001b[39m re\u001b[39m.\u001b[39msub(\u001b[39mr\u001b[39m\u001b[39m'\u001b[39m\u001b[39m[^0-9]\u001b[39m\u001b[39m'\u001b[39m, \u001b[39m'\u001b[39m\u001b[39m'\u001b[39m, raw)\n\u001b[1;32m     <a href='vscode-notebook-cell:/Users/sanghyun/Desktop/Coding/NLP/project/crawling.ipynb#ch0000021?line=18'>19</a>\u001b[0m     target_num\u001b[39m.\u001b[39mappend(result)\n",
      "File \u001b[0;32m~/miniforge3/envs/nlp/lib/python3.8/site-packages/selenium/webdriver/remote/webelement.py:172\u001b[0m, in \u001b[0;36mWebElement.get_attribute\u001b[0;34m(self, name)\u001b[0m\n\u001b[1;32m    170\u001b[0m \u001b[39mif\u001b[39;00m getAttribute_js \u001b[39mis\u001b[39;00m \u001b[39mNone\u001b[39;00m:\n\u001b[1;32m    171\u001b[0m     _load_js()\n\u001b[0;32m--> 172\u001b[0m attribute_value \u001b[39m=\u001b[39m \u001b[39mself\u001b[39;49m\u001b[39m.\u001b[39;49mparent\u001b[39m.\u001b[39;49mexecute_script(\n\u001b[1;32m    173\u001b[0m     \u001b[39m\"\u001b[39;49m\u001b[39mreturn (\u001b[39;49m\u001b[39m%s\u001b[39;49;00m\u001b[39m).apply(null, arguments);\u001b[39;49m\u001b[39m\"\u001b[39;49m \u001b[39m%\u001b[39;49m getAttribute_js,\n\u001b[1;32m    174\u001b[0m     \u001b[39mself\u001b[39;49m, name)\n\u001b[1;32m    175\u001b[0m \u001b[39mreturn\u001b[39;00m attribute_value\n",
      "File \u001b[0;32m~/miniforge3/envs/nlp/lib/python3.8/site-packages/selenium/webdriver/remote/webdriver.py:493\u001b[0m, in \u001b[0;36mWebDriver.execute_script\u001b[0;34m(self, script, *args)\u001b[0m\n\u001b[1;32m    490\u001b[0m converted_args \u001b[39m=\u001b[39m \u001b[39mlist\u001b[39m(args)\n\u001b[1;32m    491\u001b[0m command \u001b[39m=\u001b[39m Command\u001b[39m.\u001b[39mW3C_EXECUTE_SCRIPT\n\u001b[0;32m--> 493\u001b[0m \u001b[39mreturn\u001b[39;00m \u001b[39mself\u001b[39;49m\u001b[39m.\u001b[39;49mexecute(command, {\n\u001b[1;32m    494\u001b[0m     \u001b[39m'\u001b[39;49m\u001b[39mscript\u001b[39;49m\u001b[39m'\u001b[39;49m: script,\n\u001b[1;32m    495\u001b[0m     \u001b[39m'\u001b[39;49m\u001b[39margs\u001b[39;49m\u001b[39m'\u001b[39;49m: converted_args})[\u001b[39m'\u001b[39m\u001b[39mvalue\u001b[39m\u001b[39m'\u001b[39m]\n",
      "File \u001b[0;32m~/miniforge3/envs/nlp/lib/python3.8/site-packages/selenium/webdriver/remote/webdriver.py:435\u001b[0m, in \u001b[0;36mWebDriver.execute\u001b[0;34m(self, driver_command, params)\u001b[0m\n\u001b[1;32m    433\u001b[0m response \u001b[39m=\u001b[39m \u001b[39mself\u001b[39m\u001b[39m.\u001b[39mcommand_executor\u001b[39m.\u001b[39mexecute(driver_command, params)\n\u001b[1;32m    434\u001b[0m \u001b[39mif\u001b[39;00m response:\n\u001b[0;32m--> 435\u001b[0m     \u001b[39mself\u001b[39;49m\u001b[39m.\u001b[39;49merror_handler\u001b[39m.\u001b[39;49mcheck_response(response)\n\u001b[1;32m    436\u001b[0m     response[\u001b[39m'\u001b[39m\u001b[39mvalue\u001b[39m\u001b[39m'\u001b[39m] \u001b[39m=\u001b[39m \u001b[39mself\u001b[39m\u001b[39m.\u001b[39m_unwrap_value(\n\u001b[1;32m    437\u001b[0m         response\u001b[39m.\u001b[39mget(\u001b[39m'\u001b[39m\u001b[39mvalue\u001b[39m\u001b[39m'\u001b[39m, \u001b[39mNone\u001b[39;00m))\n\u001b[1;32m    438\u001b[0m     \u001b[39mreturn\u001b[39;00m response\n",
      "File \u001b[0;32m~/miniforge3/envs/nlp/lib/python3.8/site-packages/selenium/webdriver/remote/errorhandler.py:247\u001b[0m, in \u001b[0;36mErrorHandler.check_response\u001b[0;34m(self, response)\u001b[0m\n\u001b[1;32m    245\u001b[0m         alert_text \u001b[39m=\u001b[39m value[\u001b[39m'\u001b[39m\u001b[39malert\u001b[39m\u001b[39m'\u001b[39m]\u001b[39m.\u001b[39mget(\u001b[39m'\u001b[39m\u001b[39mtext\u001b[39m\u001b[39m'\u001b[39m)\n\u001b[1;32m    246\u001b[0m     \u001b[39mraise\u001b[39;00m exception_class(message, screen, stacktrace, alert_text)  \u001b[39m# type: ignore[call-arg]  # mypy is not smart enough here\u001b[39;00m\n\u001b[0;32m--> 247\u001b[0m \u001b[39mraise\u001b[39;00m exception_class(message, screen, stacktrace)\n",
      "\u001b[0;31mStaleElementReferenceException\u001b[0m: Message: stale element reference: element is not attached to the page document\n  (Session info: chrome=103.0.5060.134)\nStacktrace:\n0   chromedriver                        0x0000000103967ef9 chromedriver + 4480761\n1   chromedriver                        0x00000001038f35d3 chromedriver + 4003283\n2   chromedriver                        0x0000000103586338 chromedriver + 410424\n3   chromedriver                        0x00000001035891e7 chromedriver + 422375\n4   chromedriver                        0x0000000103589086 chromedriver + 422022\n5   chromedriver                        0x0000000103589c4d chromedriver + 425037\n6   chromedriver                        0x00000001035ed113 chromedriver + 831763\n7   chromedriver                        0x00000001035d9a62 chromedriver + 752226\n8   chromedriver                        0x00000001035ec4f1 chromedriver + 828657\n9   chromedriver                        0x00000001035d9953 chromedriver + 751955\n10  chromedriver                        0x00000001035afcd5 chromedriver + 580821\n11  chromedriver                        0x00000001035b0d25 chromedriver + 584997\n12  chromedriver                        0x000000010393902d chromedriver + 4288557\n13  chromedriver                        0x000000010393e1b3 chromedriver + 4309427\n14  chromedriver                        0x000000010394323f chromedriver + 4330047\n15  chromedriver                        0x000000010393edfa chromedriver + 4312570\n16  chromedriver                        0x0000000103917fef chromedriver + 4153327\n17  chromedriver                        0x0000000103958d78 chromedriver + 4418936\n18  chromedriver                        0x0000000103958eff chromedriver + 4419327\n19  chromedriver                        0x000000010396fab5 chromedriver + 4512437\n20  libsystem_pthread.dylib             0x00007ff81f0a44e1 _pthread_start + 125\n21  libsystem_pthread.dylib             0x00007ff81f09ff6b thread_start + 15\n"
     ]
    }
   ],
   "source": [
    "## target_num 추출\n",
    "\n",
    "# list url 접속\n",
    "driver.get(list_url)\n",
    "time.sleep(2)\n",
    "\n",
    "# list url에서 target num 추출\n",
    "elements = driver.find_elements(By.CSS_SELECTOR, \"a.btn.button_icons.type03.song_info\")\n",
    "\n",
    "page_num = 0\n",
    "\n",
    "for i in range(1,25):\n",
    "\n",
    "    driver.execute_script(\"window.scrollTo(0,document.body.scrollHeight)\")\n",
    "\n",
    "    for ele in elements:\n",
    "        raw = ele.get_attribute('href')\n",
    "        result = re.sub(r'[^0-9]', '', raw)\n",
    "        target_num.append(result)\n",
    "\n",
    "    print(len(target_num))\n",
    "\n",
    "    page_num = i + 1\n",
    "\n",
    "    link = driver.find_element(\"link text\", str(page_num))\n",
    "    link.click()\n",
    "    time.sleep(2)"
   ]
  },
  {
   "cell_type": "code",
   "execution_count": null,
   "metadata": {},
   "outputs": [],
   "source": [
    "## target_num 추출\n",
    "\n",
    "# list url 접속\n",
    "driver.get(list_url)\n",
    "time.sleep(2)\n",
    "\n",
    "# list url에서 target num 추출\n",
    "elements = driver.find_elements(By.CSS_SELECTOR, \"a.btn.button_icons.type03.song_info\")\n",
    "\n",
    "page_num = 0\n",
    "\n",
    "for i in range(1,25):\n",
    "    \n",
    "    page_num = i\n",
    "    print(page_num)\n",
    "\n",
    "    if page_num%10!=0:\n",
    "        for ele in elements:\n",
    "            thing = ele.get_attribute('href')\n",
    "            result = re.sub(r'[^0-9]', '', thing)\n",
    "            target_num.append(result)\n",
    "        link = driver.find_element(\"link text\", str(page_num))\n",
    "        link.click()\n",
    "        time.sleep(2)\n",
    "    else:\n",
    "        for ele in elements:\n",
    "            thing = ele.get_attribute('href')\n",
    "            result = re.sub(r'[^0-9]', '', thing)\n",
    "            target_num.append(result)\n",
    "        driver.find_element(\"xpath\",'//*[@id=\"pageObjNavgation\"]/div/a').click()\n",
    "        time.sleep(2)\n",
    "    \n",
    "    "
   ]
  },
  {
   "cell_type": "code",
   "execution_count": null,
   "metadata": {},
   "outputs": [],
   "source": [
    "i = 10\n",
    "print(i%10)"
   ]
  },
  {
   "cell_type": "code",
   "execution_count": null,
   "metadata": {},
   "outputs": [],
   "source": [
    "## target_url에서 추출\n",
    "\n"
   ]
  },
  {
   "cell_type": "code",
   "execution_count": null,
   "metadata": {},
   "outputs": [],
   "source": [
    "## 파일명 설정 및 파일 생성\n",
    "\n",
    "# 가수 이름 추출\n",
    "artist_name = []\n",
    "artist_name = driver.find_element(By.CSS_SELECTOR, \"a.artist_name\").text\n",
    "artist_name\n",
    "\n",
    "\n",
    "# 곡명 추출\n",
    "song_name = []\n",
    "song_name = driver.find_element(By.CSS_SELECTOR, \"div.song_name\").text\n",
    "song_name\n",
    "\n",
    "total_name = artist_name+'-'+song_name\n",
    "\n",
    "# 가사 추출\n",
    "lyrics_list = []\n",
    "\n",
    "lyrics = driver.find_element(By.CSS_SELECTOR,\"#d_video_summary\").text\n",
    "lyrics\n",
    "\n",
    "#txt파일로 저장\n",
    "with open(total_name+'.txt','w') as d:\n",
    "    text = d.write(lyrics)"
   ]
  },
  {
   "cell_type": "code",
   "execution_count": null,
   "metadata": {},
   "outputs": [],
   "source": []
  },
  {
   "cell_type": "code",
   "execution_count": null,
   "metadata": {},
   "outputs": [],
   "source": []
  }
 ],
 "metadata": {
  "kernelspec": {
   "display_name": "Python 3.8.13 ('nlp')",
   "language": "python",
   "name": "python3"
  },
  "language_info": {
   "codemirror_mode": {
    "name": "ipython",
    "version": 3
   },
   "file_extension": ".py",
   "mimetype": "text/x-python",
   "name": "python",
   "nbconvert_exporter": "python",
   "pygments_lexer": "ipython3",
   "version": "3.8.13"
  },
  "orig_nbformat": 4,
  "vscode": {
   "interpreter": {
    "hash": "8f7fa6e56b8fe71ca5cb413ccae427f7e8c8112f64ff30e1b8854b072d6c0c02"
   }
  }
 },
 "nbformat": 4,
 "nbformat_minor": 2
}
