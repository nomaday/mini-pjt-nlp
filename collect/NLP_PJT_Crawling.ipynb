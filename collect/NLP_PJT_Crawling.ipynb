{
  "cells": [
    {
      "cell_type": "markdown",
      "metadata": {
        "id": "Ug_oJVotpHcM"
      },
      "source": [
        "### 설치 – install\n",
        "\n"
      ]
    },
    {
      "cell_type": "code",
      "execution_count": null,
      "metadata": {
        "colab": {
          "base_uri": "https://localhost:8080/"
        },
        "id": "_d8VDVpxZH1U",
        "outputId": "aa30f535-5fe2-4a5d-f34d-c6a5593785ea"
      },
      "outputs": [],
      "source": [
        "!pip install selenium"
      ]
    },
    {
      "cell_type": "code",
      "execution_count": null,
      "metadata": {},
      "outputs": [],
      "source": [
        "pip install ipywidgets"
      ]
    },
    {
      "cell_type": "markdown",
      "metadata": {
        "id": "MAop3IbHpCpd"
      },
      "source": [
        "### 드라이버 – driver"
      ]
    },
    {
      "cell_type": "code",
      "execution_count": null,
      "metadata": {
        "colab": {
          "base_uri": "https://localhost:8080/"
        },
        "id": "yKQ7nMcuZopo",
        "outputId": "3dba0b24-9616-4f7c-9f0e-64f4fa90d614"
      },
      "outputs": [],
      "source": [
        "!pip install chromedriver_autoinstaller"
      ]
    },
    {
      "cell_type": "markdown",
      "metadata": {
        "id": "5vIc3e8ipLrj"
      },
      "source": [
        "### 라이브러리 import"
      ]
    },
    {
      "cell_type": "code",
      "execution_count": 1,
      "metadata": {
        "id": "sZGGr--eY-t0"
      },
      "outputs": [],
      "source": [
        "import pandas as pd\n",
        "import numpy as np\n",
        "import os\n",
        "import math \n",
        "\n",
        "import requests\n",
        "from bs4 import BeautifulSoup\n",
        "import chromedriver_autoinstaller\n",
        "\n",
        "# Selenium\n",
        "from selenium import webdriver\n",
        "from selenium.webdriver.common.alert import Alert\n",
        "from selenium.webdriver import ActionChains as AC # ActionChains are a way to automate low level interactions such as mouse movements, mouse button actions, key press, and context menu interactions.\n",
        "from selenium.webdriver.common.by import By       # Set of supported locator strategies.\n",
        "from selenium.webdriver.common.keys import Keys   # Set of special keys codes\n",
        "from selenium.webdriver.support import expected_conditions as EC\n",
        "from selenium.webdriver.support.wait import WebDriverWait    # Constructor, takes a WebDriver instance and timeout in seconds.\n",
        "\n",
        "# tqdm : for문 진행상황 체크\n",
        "from tqdm import tqdm, tqdm_notebook\n",
        "from tqdm.notebook import tqdm\n",
        "\n",
        "# 정규표현식(regular expression) : 문자(알파벳,한글), 숫자, 특수기호 정제 및 추출\n",
        "import re\n",
        "from time import sleep\n",
        "import time\n",
        "\n",
        "# 워닝 무시\n",
        "import warnings\n",
        "warnings.filterwarnings('ignore')\n"
      ]
    },
    {
      "cell_type": "markdown",
      "metadata": {
        "id": "YdnXuNmSpicy"
      },
      "source": [
        "### 브라우저 열기 (chrome)"
      ]
    },
    {
      "cell_type": "code",
      "execution_count": 2,
      "metadata": {
        "id": "Yo9-CDElp9EC"
      },
      "outputs": [],
      "source": [
        "# 크롬창에서 멜론 발라드 부분 띄우기\n",
        "chrome_path = chromedriver_autoinstaller.install()\n",
        "driver = webdriver.Chrome(chrome_path)\n",
        "\n",
        "# 크롬 옵션\n",
        "options = webdriver.ChromeOptions()  \n",
        "# 크롬 윈도우 사이즈 조절\n",
        "options.add_argument(\"--window-size=800, 1200\") # window-size -> 기본 : 1920,1080\n",
        "\n",
        "driver.get(\"https://www.melon.com/genre/song_list.htm?gnrCode=GN0100#params%5BgnrCode%5D=GN0100&params%5BdtlGnrCode%5D=&params%5BorderBy%5D=NEW&params%5BsteadyYn%5D=N&po=pageObj&startIndex=1\")\n",
        "time.sleep(3)"
      ]
    },
    {
      "cell_type": "markdown",
      "metadata": {},
      "source": [
        "### 🧞‍♂️ 전체 코드 (가사 없는 곡 PASS 가능) : 인기순 추출"
      ]
    },
    {
      "cell_type": "code",
      "execution_count": null,
      "metadata": {
        "scrolled": false
      },
      "outputs": [],
      "source": [
        "songId = []\n",
        "artist_names = []\n",
        "songs = []\n",
        "lyrics = []\n",
        "\n",
        "\n",
        "### 페이지 이동 (1~1095 pages)\n",
        "for j in tqdm(range(500,600)) :  # PAGE 범위 조정할 것 (~1095 페이지까지 있음) \n",
        " \n",
        "    print(f'----------{j+1}page 크롤링 중----------')\n",
        "    #차단 막기\n",
        "    seed = np.random.randint(100)\n",
        "    np.random.seed(seed)\n",
        "    a = np.random.randint(5)\n",
        "    time.sleep(a)\n",
        "    \n",
        "    # url 설정 (해당 페이지에 대한 url)\n",
        "    page_url = f'https://www.melon.com/genre/song_list.htm?gnrCode=GN0100#params%5BgnrCode%5D=GN0100&params%5BdtlGnrCode%5D=&params%5BorderBy%5D=POP&params%5BsteadyYn%5D=N&po=pageObj&startIndex={1+(50*j)}'\n",
        "    \n",
        "    # url 접속\n",
        "    driver.get(page_url)\n",
        "    time.sleep(5)\n",
        "\n",
        "\n",
        "    ### URL 이용하여 해당 페이지의 곡 번호 추출하기 (50 songs/page)\n",
        "    # 가사 아이콘 확인하고 곡번호 url 확인하기\n",
        "    elements = driver.find_elements(By.CSS_SELECTOR, \"a.btn.button_icons.type03.song_info\")\n",
        "    \n",
        "    product_id = []\n",
        "    for ele in elements:\n",
        "        thing = ele.get_attribute('href')\n",
        "        p = re.compile('[0-9]{1,8}')\n",
        "        song_id = p.findall(thing)[0]\n",
        "        # print(song_id)\n",
        "        product_id.append(song_id)\n",
        "\n",
        "    print(product_id)\n",
        "\n",
        "    ### 곡 번호(songId)로 돌리기 in page\n",
        "    for i in tqdm_notebook(product_id) :   # product_id\n",
        "        print(f'----------{product_id.index(i)}번째 노래를 크롤링 중입니다.----------')\n",
        "        #차단 막기\n",
        "        seed = np.random.randint(100)\n",
        "        np.random.seed(seed)\n",
        "        a = np.random.randint(5)\n",
        "        time.sleep(a)\n",
        "\n",
        "        # url 설정 (해당 곡에 대한 url)\n",
        "        url = f'https://www.melon.com/song/detail.htm?songId={i}'\n",
        "\n",
        "        # url 접속\n",
        "        driver.get(url)\n",
        "        time.sleep(3)    \n",
        "\n",
        "        # 가수명 크롤링\n",
        "        artist_name = driver.find_element(By.CSS_SELECTOR, \".artist\").text\n",
        "        print(artist_name)\n",
        "        artist_names.append(artist_name)\n",
        "        \n",
        "        # 곡명 크롤링\n",
        "        song_name = driver.find_element(By.CSS_SELECTOR, \"div.song_name\").text\n",
        "        print(song_name)\n",
        "        songs.append(song_name)\n",
        "\n",
        "            \n",
        "        # 가사 있을 때\n",
        "        try:\n",
        "            # 펼치기 아이콘 클릭\n",
        "            driver.find_element(By.CSS_SELECTOR, \"button.button_more.arrow_d\").click()\n",
        "            time.sleep(3)\n",
        "\n",
        "            # 가사 크롤링\n",
        "            lyric = driver.find_element(By.ID, \"d_video_summary\").text\n",
        "            print(lyric)\n",
        "            lyrics.append(lyric)\n",
        "\n",
        "        # 가사 없을 때\n",
        "        except:\n",
        "            lyric = \"[가사 준비중]\"\n",
        "            print(lyric)\n",
        "            lyrics.append(lyric)\n",
        "            \n",
        "    page_coll = {}\n",
        "\n",
        "    page_coll['가수'] = artist_names\n",
        "    page_coll['제목'] = songs\n",
        "    page_coll['가사'] = lyrics\n",
        "    page_coll\n",
        "\n",
        "    target_df = pd.DataFrame.from_dict(page_coll, orient='index')\n",
        "    df = target_df.transpose()\n",
        "    df\n",
        "\n",
        "    # csv 파일로 저장\n",
        "    df.to_csv(f\"melon_ballad({j+1}).csv\", encoding='utf-8-sig')\n",
        "        \n",
        "            \n",
        "# 가사 없는 곡 예시\n",
        "# https://www.melon.com/song/detail.htm?songId=35413703 밤의 해변에서 혼자 (연주곡) / 초야\n",
        "# https://www.melon.com/song/detail.htm?songId=35319615 꿈속으로 / Hope\n",
        "# https://www.melon.com/song/detail.htm?songId=30811172 민들레 홀씨 되어 (cover.ver) / Various Artists\n",
        "\n"
      ]
    }
  ],
  "metadata": {
    "colab": {
      "collapsed_sections": [],
      "name": "NLP_PJT_Song-Lyrics_220725.ipynb",
      "provenance": [],
      "toc_visible": true
    },
    "kernelspec": {
      "display_name": "Python 3.9.12 ('base')",
      "language": "python",
      "name": "python3"
    },
    "language_info": {
      "codemirror_mode": {
        "name": "ipython",
        "version": 3
      },
      "file_extension": ".py",
      "mimetype": "text/x-python",
      "name": "python",
      "nbconvert_exporter": "python",
      "pygments_lexer": "ipython3",
      "version": "3.9.12"
    },
    "toc": {
      "base_numbering": 1,
      "nav_menu": {},
      "number_sections": true,
      "sideBar": true,
      "skip_h1_title": false,
      "title_cell": "Table of Contents",
      "title_sidebar": "Contents",
      "toc_cell": false,
      "toc_position": {},
      "toc_section_display": true,
      "toc_window_display": false
    },
    "varInspector": {
      "cols": {
        "lenName": 16,
        "lenType": 16,
        "lenVar": 40
      },
      "kernels_config": {
        "python": {
          "delete_cmd_postfix": "",
          "delete_cmd_prefix": "del ",
          "library": "var_list.py",
          "varRefreshCmd": "print(var_dic_list())"
        },
        "r": {
          "delete_cmd_postfix": ") ",
          "delete_cmd_prefix": "rm(",
          "library": "var_list.r",
          "varRefreshCmd": "cat(var_dic_list()) "
        }
      },
      "types_to_exclude": [
        "module",
        "function",
        "builtin_function_or_method",
        "instance",
        "_Feature"
      ],
      "window_display": false
    },
    "vscode": {
      "interpreter": {
        "hash": "9969d7b5967f3286f318572269fddc3e66bf1b6a89db860a706efcb72f1d0349"
      }
    }
  },
  "nbformat": 4,
  "nbformat_minor": 0
}
