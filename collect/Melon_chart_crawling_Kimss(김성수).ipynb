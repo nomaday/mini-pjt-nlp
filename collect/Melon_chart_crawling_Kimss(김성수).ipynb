{
 "cells": [
  {
   "cell_type": "code",
   "execution_count": 11,
   "metadata": {
    "id": "iBiuIuRiFBMQ"
   },
   "outputs": [
    {
     "name": "stdout",
     "output_type": "stream",
     "text": [
      "Requirement already satisfied: selenium in /Users/krc/downloads/yes/envs/dl/lib/python3.8/site-packages (4.2.0)\n",
      "Requirement already satisfied: trio~=0.17 in /Users/krc/downloads/yes/envs/dl/lib/python3.8/site-packages (from selenium) (0.21.0)\n",
      "Requirement already satisfied: urllib3[secure,socks]~=1.26 in /Users/krc/downloads/yes/envs/dl/lib/python3.8/site-packages (from selenium) (1.26.9)\n",
      "Requirement already satisfied: trio-websocket~=0.9 in /Users/krc/downloads/yes/envs/dl/lib/python3.8/site-packages (from selenium) (0.9.2)\n",
      "Requirement already satisfied: async-generator>=1.9 in /Users/krc/downloads/yes/envs/dl/lib/python3.8/site-packages (from trio~=0.17->selenium) (1.10)\n",
      "Requirement already satisfied: outcome in /Users/krc/downloads/yes/envs/dl/lib/python3.8/site-packages (from trio~=0.17->selenium) (1.2.0)\n",
      "Requirement already satisfied: sortedcontainers in /Users/krc/downloads/yes/envs/dl/lib/python3.8/site-packages (from trio~=0.17->selenium) (2.4.0)\n",
      "Requirement already satisfied: idna in /Users/krc/downloads/yes/envs/dl/lib/python3.8/site-packages (from trio~=0.17->selenium) (3.3)\n",
      "Requirement already satisfied: sniffio in /Users/krc/downloads/yes/envs/dl/lib/python3.8/site-packages (from trio~=0.17->selenium) (1.2.0)\n",
      "Requirement already satisfied: attrs>=19.2.0 in /Users/krc/downloads/yes/envs/dl/lib/python3.8/site-packages (from trio~=0.17->selenium) (21.4.0)\n",
      "Requirement already satisfied: wsproto>=0.14 in /Users/krc/downloads/yes/envs/dl/lib/python3.8/site-packages (from trio-websocket~=0.9->selenium) (1.1.0)\n",
      "Requirement already satisfied: cryptography>=1.3.4 in /Users/krc/downloads/yes/envs/dl/lib/python3.8/site-packages (from urllib3[secure,socks]~=1.26->selenium) (37.0.2)\n",
      "Requirement already satisfied: pyOpenSSL>=0.14 in /Users/krc/downloads/yes/envs/dl/lib/python3.8/site-packages (from urllib3[secure,socks]~=1.26->selenium) (22.0.0)\n",
      "Requirement already satisfied: certifi in /Users/krc/downloads/yes/envs/dl/lib/python3.8/site-packages (from urllib3[secure,socks]~=1.26->selenium) (2022.6.15)\n",
      "Requirement already satisfied: PySocks!=1.5.7,<2.0,>=1.5.6 in /Users/krc/downloads/yes/envs/dl/lib/python3.8/site-packages (from urllib3[secure,socks]~=1.26->selenium) (1.7.1)\n",
      "Requirement already satisfied: cffi>=1.12 in /Users/krc/downloads/yes/envs/dl/lib/python3.8/site-packages (from cryptography>=1.3.4->urllib3[secure,socks]~=1.26->selenium) (1.15.0)\n",
      "Requirement already satisfied: h11<1,>=0.9.0 in /Users/krc/downloads/yes/envs/dl/lib/python3.8/site-packages (from wsproto>=0.14->trio-websocket~=0.9->selenium) (0.13.0)\n",
      "Requirement already satisfied: pycparser in /Users/krc/downloads/yes/envs/dl/lib/python3.8/site-packages (from cffi>=1.12->cryptography>=1.3.4->urllib3[secure,socks]~=1.26->selenium) (2.21)\n"
     ]
    }
   ],
   "source": [
    "#!pip install selenium"
   ]
  },
  {
   "cell_type": "code",
   "execution_count": 12,
   "metadata": {
    "colab": {
     "base_uri": "https://localhost:8080/"
    },
    "executionInfo": {
     "elapsed": 3674,
     "status": "ok",
     "timestamp": 1658796000580,
     "user": {
      "displayName": "닉넴결정장애",
      "userId": "01530516573951758103"
     },
     "user_tz": -540
    },
    "id": "-gI9vEtqFN-p",
    "outputId": "289d4545-d650-44ca-d38a-ea01d0407047"
   },
   "outputs": [
    {
     "name": "stdout",
     "output_type": "stream",
     "text": [
      "Requirement already satisfied: chromedriver_autoinstaller in /Users/krc/downloads/yes/envs/dl/lib/python3.8/site-packages (0.3.1)\r\n"
     ]
    }
   ],
   "source": [
    "!pip install chromedriver_autoinstaller"
   ]
  },
  {
   "cell_type": "code",
   "execution_count": 23,
   "metadata": {
    "executionInfo": {
     "elapsed": 5,
     "status": "ok",
     "timestamp": 1658797900297,
     "user": {
      "displayName": "닉넴결정장애",
      "userId": "01530516573951758103"
     },
     "user_tz": -540
    },
    "id": "HRecFu-uYsTV"
   },
   "outputs": [],
   "source": [
    "import numpy as np\n",
    "import pandas as pd\n",
    "import requests # 크롤링에 사용하는 패키지\n",
    "from bs4 import BeautifulSoup # html 변환에 사용함\n",
    "\n",
    "\n",
    "from selenium import webdriver\n",
    "from selenium.webdriver.common.alert import Alert\n",
    "from selenium.webdriver.common.keys import Keys\n",
    "from selenium.webdriver import ActionChains as AC\n",
    "\n",
    "import chromedriver_autoinstaller\n",
    "\n",
    "# tqdm : for문 진행상황 체크\n",
    "from tqdm import tqdm, tqdm_notebook\n",
    "from tqdm.notebook import tqdm\n",
    "\n",
    "# 정규표현식(regular expression) : 문자(알파벳,한글), 숫자, 특수기호 정제 및 추출\n",
    "import re\n",
    "from time import sleep\n",
    "import time\n",
    "\n",
    "# 워닝 무시\n",
    "import warnings\n",
    "warnings.filterwarnings('ignore')"
   ]
  },
  {
   "cell_type": "code",
   "execution_count": 34,
   "metadata": {},
   "outputs": [],
   "source": [
    "\n",
    "\n",
    "# 음원 랭킹\n",
    "rank_num = range(1,51)\n",
    "\n",
    "# # 크롤링한 결과를 저장할 리스트\n",
    "# singer_list = []\n",
    "# music_list = []\n",
    "\n",
    "# 크롤링 할 페이지 범위 설정\n",
    "page_num = range(1,101,50)"
   ]
  },
  {
   "cell_type": "code",
   "execution_count": 36,
   "metadata": {
    "id": "bcxSNivNclm2"
   },
   "outputs": [
    {
     "name": "stdout",
     "output_type": "stream",
     "text": [
      "\n",
      "\n",
      "\n",
      "[]WSG워너비 (가야G)경서멜로망스주호임영웅김민석 (멜로망스)임영웅경서예지, 전건호이석훈케이시 (Kassy)임영웅MSG워너비(M.O.M)#안녕성시경다비치임재현아이유케이시 (Kassy)케이시 (Kassy)MSG워너비(M.O.M)아이유경서폴킴V.O.S주호임영웅이무진탑현지민, 하성운멜로망스AKMU (악뮤)임영웅딘딘 (DINDIN)세븐틴경서예지10CM한동근정동하아이유HYNN (박혜원)#안녕김종국, KCM산들멜로망스휘인 (Whee In)길구봉구멜로망스폴킴조유진 (체리필터), 박기영하은 (포맨)WSG워너비 (가야G)경서멜로망스주호임영웅김민석 (멜로망스)임영웅경서예지, 전건호이석훈케이시 (Kassy)임영웅MSG워너비(M.O.M)#안녕성시경다비치임재현아이유케이시 (Kassy)케이시 (Kassy)MSG워너비(M.O.M)아이유경서폴킴V.O.S주호임영웅이무진탑현지민, 하성운멜로망스AKMU (악뮤)임영웅딘딘 (DINDIN)세븐틴경서예지10CM한동근정동하아이유HYNN (박혜원)#안녕김종국, KCM산들멜로망스휘인 (Whee In)길구봉구멜로망스폴킴조유진 (체리필터), 박기영하은 (포맨)WSG워너비 (가야G)경서멜로망스주호임영웅김민석 (멜로망스)임영웅경서예지, 전건호이석훈케이시 (Kassy)임영웅MSG워너비(M.O.M)#안녕성시경다비치임재현아이유케이시 (Kassy)케이시 (Kassy)MSG워너비(M.O.M)아이유경서폴킴V.O.S주호임영웅이무진탑현지민, 하성운멜로망스AKMU (악뮤)임영웅딘딘 (DINDIN)세븐틴경서예지10CM한동근정동하아이유HYNN (박혜원)#안녕김종국, KCM산들멜로망스휘인 (Whee In)길구봉구멜로망스폴킴조유진 (체리필터), 박기영하은 (포맨) []그때 그 순간 그대로 (그그그)나의 X에게사랑인가 봐내가 아니라도사랑은 늘 도망가취중고백우리들의 블루스다정히 내 이름을 부르면바보에게 바보가 (웹툰 '연애의 발견' X 이석훈)늦은 밤 헤어지긴 너무 아쉬워다시 만날 수 있을까듣고 싶을까해요 (2022)너의 모든 순간팡파레고백하는 취한밤에 (Prod. 2soo)드라마사랑이야언제나 사랑해바라만 본다내 손을 잡아밤하늘의 별을(2020)모든 날, 모든 순간 (Every day, Every Moment)미친 것처럼그 하루(feat.반하나)아버지눈이 오잖아(Feat.헤이즈)호랑수월가With you고백어떻게 이별까지 사랑하겠어, 널 사랑하는 거지인생찬가이러면 안 될 거 아는데 너 앞에만 서면 나락 (Feat. 10CM)돌고 돌아너에게 꼭 말하고 싶은 게 있어서랍사랑인걸추억은 만남보다 이별에 남아밤편지시든 꽃에 물을 주듯너의 번호를 누르고 (Prod. 영화처럼)I LUV U (with 미란이)취기를 빌려 (취향저격 그녀 X 산들)선물너, 너 (N번째 연애 X 휘인 (Whee In))좀 더 안아줄걸초대어제처럼나에게로의 초대 (이상한 나라의 앨리스, 하트다 하트여왕)입술 끝에 두고 온 말그때 그 순간 그대로 (그그그)나의 X에게사랑인가 봐내가 아니라도사랑은 늘 도망가취중고백우리들의 블루스다정히 내 이름을 부르면바보에게 바보가 (웹툰 '연애의 발견' X 이석훈)늦은 밤 헤어지긴 너무 아쉬워다시 만날 수 있을까듣고 싶을까해요 (2022)너의 모든 순간팡파레고백하는 취한밤에 (Prod. 2soo)드라마사랑이야언제나 사랑해바라만 본다내 손을 잡아밤하늘의 별을(2020)모든 날, 모든 순간 (Every day, Every Moment)미친 것처럼그 하루(feat.반하나)아버지눈이 오잖아(Feat.헤이즈)호랑수월가With you고백어떻게 이별까지 사랑하겠어, 널 사랑하는 거지인생찬가이러면 안 될 거 아는데 너 앞에만 서면 나락 (Feat. 10CM)돌고 돌아너에게 꼭 말하고 싶은 게 있어서랍사랑인걸추억은 만남보다 이별에 남아밤편지시든 꽃에 물을 주듯너의 번호를 누르고 (Prod. 영화처럼)I LUV U (with 미란이)취기를 빌려 (취향저격 그녀 X 산들)선물너, 너 (N번째 연애 X 휘인 (Whee In))좀 더 안아줄걸초대어제처럼나에게로의 초대 (이상한 나라의 앨리스, 하트다 하트여왕)입술 끝에 두고 온 말그때 그 순간 그대로 (그그그)나의 X에게사랑인가 봐내가 아니라도사랑은 늘 도망가취중고백우리들의 블루스다정히 내 이름을 부르면바보에게 바보가 (웹툰 '연애의 발견' X 이석훈)늦은 밤 헤어지긴 너무 아쉬워다시 만날 수 있을까듣고 싶을까해요 (2022)너의 모든 순간팡파레고백하는 취한밤에 (Prod. 2soo)드라마사랑이야언제나 사랑해바라만 본다내 손을 잡아밤하늘의 별을(2020)모든 날, 모든 순간 (Every day, Every Moment)미친 것처럼그 하루(feat.반하나)아버지눈이 오잖아(Feat.헤이즈)호랑수월가With you고백어떻게 이별까지 사랑하겠어, 널 사랑하는 거지인생찬가이러면 안 될 거 아는데 너 앞에만 서면 나락 (Feat. 10CM)돌고 돌아너에게 꼭 말하고 싶은 게 있어서랍사랑인걸추억은 만남보다 이별에 남아밤편지시든 꽃에 물을 주듯너의 번호를 누르고 (Prod. 영화처럼)I LUV U (with 미란이)취기를 빌려 (취향저격 그녀 X 산들)선물너, 너 (N번째 연애 X 휘인 (Whee In))좀 더 안아줄걸초대어제처럼나에게로의 초대 (이상한 나라의 앨리스, 하트다 하트여왕)입술 끝에 두고 온 말\n"
     ]
    }
   ],
   "source": [
    "# '가수 이름','노래 제목' 수집하는 반복문\n",
    "for i in page_num:\n",
    "    try:\n",
    "        # 크롤링 할 시간 간격 설정\n",
    "        chrome_path = chromedriver_autoinstaller.install()\n",
    "        driver = webdriver.Chrome(chrome_path)\n",
    "        driver.get(f\"https://www.melon.com/genre/song_list.htm?gnrCode=GN0100&dtlGnrCode=#params%5BgnrCode%5D=GN0100&params%5BdtlGnrCode%5D=&params%5BorderBy%5D=POP&params%5BsteadyYn%5D=N&po=pageObj&startIndex={i}\")\n",
    "        time.sleep(2)\n",
    "        \n",
    "        for j in rank_num:\n",
    "            music = driver.find_element_by_css_selector(f\"tr:nth-child({j}) > td:nth-child(5) > div > div > div.ellipsis.rank01\").text\n",
    "            singer = driver.find_element_by_css_selector(f\"tr:nth-child({j}) > td:nth-child(5) > div > div > div.ellipsis.rank02\").text\n",
    "#             music = driver.find_element(By.CSS_SELECTOR,f\"tr:nth-child({j}) > td:nth-child(5) > div > div > div.ellipsis.rank01\").text\n",
    "#             singer = driver.find_element(By.CSS_SELECTOR,f\"tr:nth-child({j}) > td:nth-child(5) > div > div > div.ellipsis.rank02\").text\n",
    "            music_list = str(music_list) + str(music)       \n",
    "            singer_list = str(singer_list) + str(singer)\n",
    "            \n",
    "            j =+ 1\n",
    "        \n",
    "        print('\\n'*2)\n",
    "        rank_num = rank_num + 50\n",
    "    except:\n",
    "        break\n",
    "        \n",
    "print(singer_list,music_list)"
   ]
  },
  {
   "cell_type": "code",
   "execution_count": 9,
   "metadata": {},
   "outputs": [
    {
     "name": "stdout",
     "output_type": "stream",
     "text": [
      "[]\n"
     ]
    }
   ],
   "source": [
    "print(singer_list)"
   ]
  },
  {
   "cell_type": "code",
   "execution_count": null,
   "metadata": {},
   "outputs": [],
   "source": []
  }
 ],
 "metadata": {
  "colab": {
   "authorship_tag": "ABX9TyPYVjBfu1t4k5A7PkubSKmM",
   "name": "Melon_chart_crawling.ipynb",
   "provenance": []
  },
  "kernelspec": {
   "display_name": "Python 3 (ipykernel)",
   "language": "python",
   "name": "python3"
  },
  "language_info": {
   "codemirror_mode": {
    "name": "ipython",
    "version": 3
   },
   "file_extension": ".py",
   "mimetype": "text/x-python",
   "name": "python",
   "nbconvert_exporter": "python",
   "pygments_lexer": "ipython3",
   "version": "3.8.13"
  }
 },
 "nbformat": 4,
 "nbformat_minor": 1
}
